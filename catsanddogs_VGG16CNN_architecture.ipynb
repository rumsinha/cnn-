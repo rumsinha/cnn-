{
  "nbformat": 4,
  "nbformat_minor": 0,
  "metadata": {
    "colab": {
      "name": "catsanddogs_VGG16CNN_architecture.ipynb",
      "provenance": [],
      "collapsed_sections": []
    },
    "kernelspec": {
      "name": "python3",
      "display_name": "Python 3"
    },
    "language_info": {
      "name": "python"
    },
    "accelerator": "GPU"
  },
  "cells": [
    {
      "cell_type": "code",
      "execution_count": 2,
      "metadata": {
        "id": "cNGk_qR3zniI"
      },
      "outputs": [],
      "source": [
        "from keras.applications.vgg16 import VGG16"
      ]
    },
    {
      "cell_type": "markdown",
      "source": [
        " Instantiating the VGG16 convolutional base"
      ],
      "metadata": {
        "id": "7ovTu8bxzokY"
      }
    },
    {
      "cell_type": "code",
      "source": [
        "conv_base = VGG16(weights='imagenet',\n",
        "include_top=False,\n",
        "input_shape=(150, 150, 3))"
      ],
      "metadata": {
        "colab": {
          "base_uri": "https://localhost:8080/"
        },
        "id": "0XDh_48czpIz",
        "outputId": "c6383326-f2e6-4320-f309-84e61193f855"
      },
      "execution_count": 3,
      "outputs": [
        {
          "output_type": "stream",
          "name": "stdout",
          "text": [
            "Downloading data from https://storage.googleapis.com/tensorflow/keras-applications/vgg16/vgg16_weights_tf_dim_ordering_tf_kernels_notop.h5\n",
            "58892288/58889256 [==============================] - 1s 0us/step\n",
            "58900480/58889256 [==============================] - 1s 0us/step\n"
          ]
        }
      ]
    },
    {
      "cell_type": "code",
      "source": [
        "conv_base.summary()"
      ],
      "metadata": {
        "colab": {
          "base_uri": "https://localhost:8080/"
        },
        "id": "IAsY3hLG0FMd",
        "outputId": "5e7e1027-f2e8-4d87-e2c5-76ec767362dd"
      },
      "execution_count": 4,
      "outputs": [
        {
          "output_type": "stream",
          "name": "stdout",
          "text": [
            "Model: \"vgg16\"\n",
            "_________________________________________________________________\n",
            " Layer (type)                Output Shape              Param #   \n",
            "=================================================================\n",
            " input_1 (InputLayer)        [(None, 150, 150, 3)]     0         \n",
            "                                                                 \n",
            " block1_conv1 (Conv2D)       (None, 150, 150, 64)      1792      \n",
            "                                                                 \n",
            " block1_conv2 (Conv2D)       (None, 150, 150, 64)      36928     \n",
            "                                                                 \n",
            " block1_pool (MaxPooling2D)  (None, 75, 75, 64)        0         \n",
            "                                                                 \n",
            " block2_conv1 (Conv2D)       (None, 75, 75, 128)       73856     \n",
            "                                                                 \n",
            " block2_conv2 (Conv2D)       (None, 75, 75, 128)       147584    \n",
            "                                                                 \n",
            " block2_pool (MaxPooling2D)  (None, 37, 37, 128)       0         \n",
            "                                                                 \n",
            " block3_conv1 (Conv2D)       (None, 37, 37, 256)       295168    \n",
            "                                                                 \n",
            " block3_conv2 (Conv2D)       (None, 37, 37, 256)       590080    \n",
            "                                                                 \n",
            " block3_conv3 (Conv2D)       (None, 37, 37, 256)       590080    \n",
            "                                                                 \n",
            " block3_pool (MaxPooling2D)  (None, 18, 18, 256)       0         \n",
            "                                                                 \n",
            " block4_conv1 (Conv2D)       (None, 18, 18, 512)       1180160   \n",
            "                                                                 \n",
            " block4_conv2 (Conv2D)       (None, 18, 18, 512)       2359808   \n",
            "                                                                 \n",
            " block4_conv3 (Conv2D)       (None, 18, 18, 512)       2359808   \n",
            "                                                                 \n",
            " block4_pool (MaxPooling2D)  (None, 9, 9, 512)         0         \n",
            "                                                                 \n",
            " block5_conv1 (Conv2D)       (None, 9, 9, 512)         2359808   \n",
            "                                                                 \n",
            " block5_conv2 (Conv2D)       (None, 9, 9, 512)         2359808   \n",
            "                                                                 \n",
            " block5_conv3 (Conv2D)       (None, 9, 9, 512)         2359808   \n",
            "                                                                 \n",
            " block5_pool (MaxPooling2D)  (None, 4, 4, 512)         0         \n",
            "                                                                 \n",
            "=================================================================\n",
            "Total params: 14,714,688\n",
            "Trainable params: 14,714,688\n",
            "Non-trainable params: 0\n",
            "_________________________________________________________________\n"
          ]
        }
      ]
    },
    {
      "cell_type": "markdown",
      "source": [
        " Extracting features using the pretrained convolutional base"
      ],
      "metadata": {
        "id": "aYmij5fI0uv5"
      }
    },
    {
      "cell_type": "code",
      "source": [
        "import os\n",
        "import numpy as np\n",
        "from keras.preprocessing.image import ImageDataGenerator"
      ],
      "metadata": {
        "id": "28GmUONu0PbX"
      },
      "execution_count": 5,
      "outputs": []
    },
    {
      "cell_type": "code",
      "source": [
        "!wget --no-check-certificate \\\n",
        "    https://storage.googleapis.com/mledu-datasets/cats_and_dogs_filtered.zip \\\n",
        "    -O /tmp/cats_and_dogs_filtered.zip"
      ],
      "metadata": {
        "colab": {
          "base_uri": "https://localhost:8080/"
        },
        "id": "SMpuzEPR0y_9",
        "outputId": "be8117b4-1fbf-4f87-8613-7da5c3fc06e2"
      },
      "execution_count": 6,
      "outputs": [
        {
          "output_type": "stream",
          "name": "stdout",
          "text": [
            "--2021-12-31 23:29:08--  https://storage.googleapis.com/mledu-datasets/cats_and_dogs_filtered.zip\n",
            "Resolving storage.googleapis.com (storage.googleapis.com)... 74.125.124.128, 172.217.212.128, 172.217.214.128, ...\n",
            "Connecting to storage.googleapis.com (storage.googleapis.com)|74.125.124.128|:443... connected.\n",
            "HTTP request sent, awaiting response... 200 OK\n",
            "Length: 68606236 (65M) [application/zip]\n",
            "Saving to: ‘/tmp/cats_and_dogs_filtered.zip’\n",
            "\n",
            "/tmp/cats_and_dogs_ 100%[===================>]  65.43M   139MB/s    in 0.5s    \n",
            "\n",
            "2021-12-31 23:29:09 (139 MB/s) - ‘/tmp/cats_and_dogs_filtered.zip’ saved [68606236/68606236]\n",
            "\n"
          ]
        }
      ]
    },
    {
      "cell_type": "code",
      "source": [
        "import os\n",
        "import zipfile\n",
        "\n",
        "local_zip = '/tmp/cats_and_dogs_filtered.zip'\n",
        "zip_ref = zipfile.ZipFile(local_zip, 'r')\n",
        "zip_ref.extractall('/tmp')\n",
        "zip_ref.close()"
      ],
      "metadata": {
        "id": "7hHMajVR017E"
      },
      "execution_count": 7,
      "outputs": []
    },
    {
      "cell_type": "markdown",
      "source": [
        "The contents of the .zip are extracted to the base directory /tmp/cats_and_dogs_filtered, which contains train and validation subdirectories for the training and validation datasets"
      ],
      "metadata": {
        "id": "kg_OgO491Bca"
      }
    },
    {
      "cell_type": "code",
      "source": [
        "base_dir = '/tmp/cats_and_dogs_filtered'\n",
        "train_dir = os.path.join(base_dir, 'train')\n",
        "validation_dir = os.path.join(base_dir, 'validation')\n",
        "\n",
        "# Directory with our training cat pictures\n",
        "train_cats_dir = os.path.join(train_dir, 'cats')\n",
        "\n",
        "# Directory with our training dog pictures\n",
        "train_dogs_dir = os.path.join(train_dir, 'dogs')\n",
        "\n",
        "# Directory with our validation cat pictures\n",
        "validation_cats_dir = os.path.join(validation_dir, 'cats')\n",
        "\n",
        "# Directory with our validation dog pictures\n",
        "validation_dogs_dir = os.path.join(validation_dir, 'dogs')"
      ],
      "metadata": {
        "id": "L2V17Z3e07GF"
      },
      "execution_count": 8,
      "outputs": []
    },
    {
      "cell_type": "code",
      "source": [
        "datagen = ImageDataGenerator(rescale=1./255)\n",
        "batch_size = 20"
      ],
      "metadata": {
        "id": "_P9Zfarf1GQQ"
      },
      "execution_count": 9,
      "outputs": []
    },
    {
      "cell_type": "code",
      "source": [
        "def extract_features(directory, sample_count):\n",
        "  features = np.zeros(shape=(sample_count, 4, 4, 512))\n",
        "  labels = np.zeros(shape=(sample_count))\n",
        "  generator = datagen.flow_from_directory(\n",
        "  directory,\n",
        "  target_size=(150, 150),\n",
        "  batch_size=batch_size,\n",
        "  class_mode='binary')\n",
        "  i=0\n",
        "  for inputs_batch, labels_batch in generator:\n",
        "    features_batch = conv_base.predict(inputs_batch)\n",
        "    features[i * batch_size : (i + 1) * batch_size] = features_batch\n",
        "    labels[i * batch_size : (i + 1) * batch_size] = labels_batch\n",
        "    i += 1\n",
        "    if i * batch_size >= sample_count:\n",
        "     break\n",
        "  return features, labels"
      ],
      "metadata": {
        "id": "l4-CnQnh1Zot"
      },
      "execution_count": 10,
      "outputs": []
    },
    {
      "cell_type": "code",
      "source": [
        "train_features, train_labels = extract_features(train_dir, 2000)\n",
        "validation_features, validation_labels = extract_features(validation_dir, 1000)"
      ],
      "metadata": {
        "colab": {
          "base_uri": "https://localhost:8080/"
        },
        "id": "6HTvg1QW1iyU",
        "outputId": "92f9d579-0208-42ef-af94-71eb94fde4f8"
      },
      "execution_count": 11,
      "outputs": [
        {
          "output_type": "stream",
          "name": "stdout",
          "text": [
            "Found 2000 images belonging to 2 classes.\n",
            "Found 1000 images belonging to 2 classes.\n"
          ]
        }
      ]
    },
    {
      "cell_type": "code",
      "source": [
        "train_features.shape"
      ],
      "metadata": {
        "colab": {
          "base_uri": "https://localhost:8080/"
        },
        "id": "d8nXRpq41nvW",
        "outputId": "fd9bd430-59a2-4424-c0bb-01469395d918"
      },
      "execution_count": 12,
      "outputs": [
        {
          "output_type": "execute_result",
          "data": {
            "text/plain": [
              "(2000, 4, 4, 512)"
            ]
          },
          "metadata": {},
          "execution_count": 12
        }
      ]
    },
    {
      "cell_type": "markdown",
      "source": [
        "The extracted features are currently of shape (samples, 4, 4, 512).\n",
        " must flatten them to (samples, 8192):"
      ],
      "metadata": {
        "id": "FSdMpkJ02BJJ"
      }
    },
    {
      "cell_type": "code",
      "source": [
        "train_features = np.reshape(train_features, (2000, 4*4* 512))\n",
        "validation_features = np.reshape(validation_features, (1000, 4*4* 512))"
      ],
      "metadata": {
        "id": "wwtpIAbd1vvD"
      },
      "execution_count": 13,
      "outputs": []
    },
    {
      "cell_type": "markdown",
      "source": [
        "Defining and training the densely connected classifier"
      ],
      "metadata": {
        "id": "Fqi2TX-S2S4Z"
      }
    },
    {
      "cell_type": "code",
      "source": [
        "from keras import models\n",
        "from keras import layers\n",
        "from keras import optimizers\n",
        "import tensorflow"
      ],
      "metadata": {
        "id": "suUAGXaT2Hi2"
      },
      "execution_count": 17,
      "outputs": []
    },
    {
      "cell_type": "code",
      "source": [
        "model = models.Sequential()\n",
        "model.add(layers.Dense(256, activation='relu', input_dim=4 * 4 * 512))\n",
        "model.add(layers.Dropout(0.5))\n",
        "model.add(layers.Dense(1, activation='sigmoid'))\n",
        "model.compile(optimizer=tensorflow.keras.optimizers.RMSprop(lr=2e-5),loss='binary_crossentropy',metrics=['acc'])\n",
        "history = model.fit(train_features, train_labels,epochs=30,batch_size=20,validation_data=(validation_features, validation_labels))"
      ],
      "metadata": {
        "colab": {
          "base_uri": "https://localhost:8080/"
        },
        "id": "wMC8RXM72VwP",
        "outputId": "2f623547-20a7-43dc-f6a4-9864b2e2fbff"
      },
      "execution_count": 18,
      "outputs": [
        {
          "output_type": "stream",
          "name": "stderr",
          "text": [
            "/usr/local/lib/python3.7/dist-packages/keras/optimizer_v2/rmsprop.py:130: UserWarning: The `lr` argument is deprecated, use `learning_rate` instead.\n",
            "  super(RMSprop, self).__init__(name, **kwargs)\n"
          ]
        },
        {
          "output_type": "stream",
          "name": "stdout",
          "text": [
            "Epoch 1/30\n",
            "100/100 [==============================] - 2s 8ms/step - loss: 0.5991 - acc: 0.6775 - val_loss: 0.4709 - val_acc: 0.7950\n",
            "Epoch 2/30\n",
            "100/100 [==============================] - 1s 6ms/step - loss: 0.4190 - acc: 0.8135 - val_loss: 0.3722 - val_acc: 0.8440\n",
            "Epoch 3/30\n",
            "100/100 [==============================] - 1s 6ms/step - loss: 0.3570 - acc: 0.8535 - val_loss: 0.3303 - val_acc: 0.8700\n",
            "Epoch 4/30\n",
            "100/100 [==============================] - 1s 7ms/step - loss: 0.3222 - acc: 0.8640 - val_loss: 0.3181 - val_acc: 0.8700\n",
            "Epoch 5/30\n",
            "100/100 [==============================] - 1s 7ms/step - loss: 0.2929 - acc: 0.8815 - val_loss: 0.3037 - val_acc: 0.8770\n",
            "Epoch 6/30\n",
            "100/100 [==============================] - 1s 7ms/step - loss: 0.2655 - acc: 0.8960 - val_loss: 0.2933 - val_acc: 0.8780\n",
            "Epoch 7/30\n",
            "100/100 [==============================] - 1s 7ms/step - loss: 0.2482 - acc: 0.9075 - val_loss: 0.2761 - val_acc: 0.8810\n",
            "Epoch 8/30\n",
            "100/100 [==============================] - 1s 7ms/step - loss: 0.2259 - acc: 0.9145 - val_loss: 0.2742 - val_acc: 0.8780\n",
            "Epoch 9/30\n",
            "100/100 [==============================] - 1s 7ms/step - loss: 0.2207 - acc: 0.9150 - val_loss: 0.2673 - val_acc: 0.8860\n",
            "Epoch 10/30\n",
            "100/100 [==============================] - 1s 6ms/step - loss: 0.2019 - acc: 0.9195 - val_loss: 0.2706 - val_acc: 0.8810\n",
            "Epoch 11/30\n",
            "100/100 [==============================] - 1s 7ms/step - loss: 0.1942 - acc: 0.9305 - val_loss: 0.2626 - val_acc: 0.8900\n",
            "Epoch 12/30\n",
            "100/100 [==============================] - 1s 6ms/step - loss: 0.1820 - acc: 0.9400 - val_loss: 0.2594 - val_acc: 0.8890\n",
            "Epoch 13/30\n",
            "100/100 [==============================] - 1s 7ms/step - loss: 0.1815 - acc: 0.9340 - val_loss: 0.2647 - val_acc: 0.8740\n",
            "Epoch 14/30\n",
            "100/100 [==============================] - 1s 7ms/step - loss: 0.1700 - acc: 0.9400 - val_loss: 0.2617 - val_acc: 0.8860\n",
            "Epoch 15/30\n",
            "100/100 [==============================] - 1s 7ms/step - loss: 0.1553 - acc: 0.9430 - val_loss: 0.2602 - val_acc: 0.8860\n",
            "Epoch 16/30\n",
            "100/100 [==============================] - 1s 6ms/step - loss: 0.1541 - acc: 0.9435 - val_loss: 0.2571 - val_acc: 0.8860\n",
            "Epoch 17/30\n",
            "100/100 [==============================] - 1s 6ms/step - loss: 0.1466 - acc: 0.9470 - val_loss: 0.2556 - val_acc: 0.8830\n",
            "Epoch 18/30\n",
            "100/100 [==============================] - 1s 7ms/step - loss: 0.1366 - acc: 0.9530 - val_loss: 0.2545 - val_acc: 0.8840\n",
            "Epoch 19/30\n",
            "100/100 [==============================] - 1s 6ms/step - loss: 0.1330 - acc: 0.9600 - val_loss: 0.2537 - val_acc: 0.8850\n",
            "Epoch 20/30\n",
            "100/100 [==============================] - 1s 7ms/step - loss: 0.1290 - acc: 0.9590 - val_loss: 0.2605 - val_acc: 0.8830\n",
            "Epoch 21/30\n",
            "100/100 [==============================] - 1s 6ms/step - loss: 0.1214 - acc: 0.9560 - val_loss: 0.2539 - val_acc: 0.8870\n",
            "Epoch 22/30\n",
            "100/100 [==============================] - 1s 7ms/step - loss: 0.1198 - acc: 0.9590 - val_loss: 0.2534 - val_acc: 0.8860\n",
            "Epoch 23/30\n",
            "100/100 [==============================] - 1s 7ms/step - loss: 0.1118 - acc: 0.9630 - val_loss: 0.2548 - val_acc: 0.8850\n",
            "Epoch 24/30\n",
            "100/100 [==============================] - 1s 7ms/step - loss: 0.1124 - acc: 0.9660 - val_loss: 0.2549 - val_acc: 0.8830\n",
            "Epoch 25/30\n",
            "100/100 [==============================] - 1s 6ms/step - loss: 0.1057 - acc: 0.9695 - val_loss: 0.2560 - val_acc: 0.8820\n",
            "Epoch 26/30\n",
            "100/100 [==============================] - 1s 6ms/step - loss: 0.1037 - acc: 0.9645 - val_loss: 0.2559 - val_acc: 0.8830\n",
            "Epoch 27/30\n",
            "100/100 [==============================] - 1s 6ms/step - loss: 0.0986 - acc: 0.9700 - val_loss: 0.2572 - val_acc: 0.8890\n",
            "Epoch 28/30\n",
            "100/100 [==============================] - 1s 7ms/step - loss: 0.0943 - acc: 0.9705 - val_loss: 0.2678 - val_acc: 0.8820\n",
            "Epoch 29/30\n",
            "100/100 [==============================] - 1s 6ms/step - loss: 0.0879 - acc: 0.9725 - val_loss: 0.2597 - val_acc: 0.8940\n",
            "Epoch 30/30\n",
            "100/100 [==============================] - 1s 6ms/step - loss: 0.0865 - acc: 0.9755 - val_loss: 0.2594 - val_acc: 0.8830\n"
          ]
        }
      ]
    },
    {
      "cell_type": "markdown",
      "source": [
        " Plotting the results"
      ],
      "metadata": {
        "id": "3coHyq2g2v-1"
      }
    },
    {
      "cell_type": "code",
      "source": [
        "import matplotlib.pyplot as plt\n",
        "acc = history.history['acc']\n",
        "val_acc = history.history['val_acc']\n",
        "loss = history.history['loss']\n",
        "val_loss = history.history['val_loss']\n",
        "epochs = range(1, len(acc) + 1)\n",
        "plt.plot(epochs, acc, 'bo', label='Training acc')\n",
        "plt.plot(epochs, val_acc, 'b', label='Validation acc')\n",
        "plt.title('Training and validation accuracy')\n",
        "plt.legend()\n",
        "plt.figure()\n",
        "plt.plot(epochs, loss, 'bo', label='Training loss')\n",
        "plt.plot(epochs, val_loss, 'b', label='Validation loss')\n",
        "plt.title('Training and validation loss')\n",
        "plt.legend()\n",
        "plt.show()"
      ],
      "metadata": {
        "colab": {
          "base_uri": "https://localhost:8080/",
          "height": 545
        },
        "id": "7wNB5NS22gee",
        "outputId": "e9cc98c9-a345-4407-80ca-8e197f3505ee"
      },
      "execution_count": 19,
      "outputs": [
        {
          "output_type": "display_data",
          "data": {
            "image/png": "[encoded data removed]",
            "text/plain": [
              "<Figure size 432x288 with 1 Axes>"
            ]
          },
          "metadata": {
            "needs_background": "light"
          }
        },
        {
          "output_type": "display_data",
          "data": {
            "image/png": "[encoded data removed]",
            "text/plain": [
              "<Figure size 432x288 with 1 Axes>"
            ]
          },
          "metadata": {
            "needs_background": "light"
          }
        }
      ]
    },
    {
      "cell_type": "markdown",
      "source": [
        "data augmentation, which is essential\n",
        "for preventing overfitting with small image datasets. "
      ],
      "metadata": {
        "id": "6JSonypv28Ft"
      }
    },
    {
      "cell_type": "markdown",
      "source": [
        "FEATURE EXTRACTION WITH DATA AUGMENTATION"
      ],
      "metadata": {
        "id": "6AY6hsGp2_u1"
      }
    },
    {
      "cell_type": "markdown",
      "source": [
        "data augmenta\u0002tion during training: extending the conv_base model and running it end to end on the inputs"
      ],
      "metadata": {
        "id": "duuSQFoX3NdU"
      }
    },
    {
      "cell_type": "markdown",
      "source": [
        "Adding a densely connected classifier on top of the convolutional base"
      ],
      "metadata": {
        "id": "dHDd2LjY3ZYV"
      }
    },
    {
      "cell_type": "code",
      "source": [
        "model = models.Sequential()\n",
        "model.add(conv_base)\n",
        "model.add(layers.Flatten())\n",
        "model.add(layers.Dense(256, activation='relu'))\n",
        "model.add(layers.Dense(1, activation='sigmoid'))"
      ],
      "metadata": {
        "id": "2sraYw7D2zyZ"
      },
      "execution_count": 20,
      "outputs": []
    },
    {
      "cell_type": "code",
      "source": [
        "model.summary()"
      ],
      "metadata": {
        "colab": {
          "base_uri": "https://localhost:8080/"
        },
        "id": "cywJGKxW3clq",
        "outputId": "7da7cd4e-381e-40f2-d7cc-a2cb51f2dff2"
      },
      "execution_count": 21,
      "outputs": [
        {
          "output_type": "stream",
          "name": "stdout",
          "text": [
            "Model: \"sequential_3\"\n",
            "_________________________________________________________________\n",
            " Layer (type)                Output Shape              Param #   \n",
            "=================================================================\n",
            " vgg16 (Functional)          (None, 4, 4, 512)         14714688  \n",
            "                                                                 \n",
            " flatten (Flatten)           (None, 8192)              0         \n",
            "                                                                 \n",
            " dense_6 (Dense)             (None, 256)               2097408   \n",
            "                                                                 \n",
            " dense_7 (Dense)             (None, 1)                 257       \n",
            "                                                                 \n",
            "=================================================================\n",
            "Total params: 16,812,353\n",
            "Trainable params: 16,812,353\n",
            "Non-trainable params: 0\n",
            "_________________________________________________________________\n"
          ]
        }
      ]
    },
    {
      "cell_type": "markdown",
      "source": [
        "Freezing a layer or set of layers means preventing their weights from being\n",
        "updated during training. If you don’t do this, then the representations that were pre\u0002viously learned by the convolutional base will be modified during training. Because\n",
        "the Dense layers on top are randomly initialized, very large weight updates would be\n",
        "propagated through the network, effectively destroying the representations previously\n",
        "learned."
      ],
      "metadata": {
        "id": "q8AnUhXO3tNm"
      }
    },
    {
      "cell_type": "markdown",
      "source": [
        " In Keras, you freeze a network by setting its trainable attribute to False:"
      ],
      "metadata": {
        "id": "q24UKJt43xnX"
      }
    },
    {
      "cell_type": "code",
      "source": [
        " print('This is the number of trainable weights before freezing the conv base:', len(model.trainable_weights))"
      ],
      "metadata": {
        "colab": {
          "base_uri": "https://localhost:8080/"
        },
        "id": "L5Kby95t3ete",
        "outputId": "e41d46b9-0a8b-46d5-fb95-e7c99263b050"
      },
      "execution_count": 22,
      "outputs": [
        {
          "output_type": "stream",
          "name": "stdout",
          "text": [
            "This is the number of trainable weights before freezing the conv base: 30\n"
          ]
        }
      ]
    },
    {
      "cell_type": "code",
      "source": [
        "conv_base.trainable = False"
      ],
      "metadata": {
        "id": "JvIWGGLY35EI"
      },
      "execution_count": 23,
      "outputs": []
    },
    {
      "cell_type": "code",
      "source": [
        "print('This is the number of trainable weights after freezing the conv base:', len(model.trainable_weights))"
      ],
      "metadata": {
        "colab": {
          "base_uri": "https://localhost:8080/"
        },
        "id": "bHUQGcbO37ds",
        "outputId": "2b8234c9-4f32-4031-b4fc-5f742daa1ee4"
      },
      "execution_count": 24,
      "outputs": [
        {
          "output_type": "stream",
          "name": "stdout",
          "text": [
            "This is the number of trainable weights after freezing the conv base: 4\n"
          ]
        }
      ]
    },
    {
      "cell_type": "markdown",
      "source": [
        " Training the model end to end with a frozen convolutional base"
      ],
      "metadata": {
        "id": "d78jok034OOO"
      }
    },
    {
      "cell_type": "code",
      "source": [
        "from keras.preprocessing.image import ImageDataGenerator\n",
        "from keras import optimizers"
      ],
      "metadata": {
        "id": "3ZFB1FjS3_kL"
      },
      "execution_count": 25,
      "outputs": []
    },
    {
      "cell_type": "markdown",
      "source": [
        " the\n",
        "validation data\n",
        "shouldn’t be\n",
        "augmented!"
      ],
      "metadata": {
        "id": "fCCj8iwZ4VjS"
      }
    },
    {
      "cell_type": "code",
      "source": [
        "train_datagen = ImageDataGenerator(\n",
        "rescale=1./255,\n",
        "rotation_range=40,\n",
        "width_shift_range=0.2,\n",
        "height_shift_range=0.2,\n",
        "shear_range=0.2,\n",
        "zoom_range=0.2,\n",
        "horizontal_flip=True,\n",
        "fill_mode='nearest')"
      ],
      "metadata": {
        "id": "_lahAC4S4RJz"
      },
      "execution_count": 26,
      "outputs": []
    },
    {
      "cell_type": "code",
      "source": [
        "test_datagen = ImageDataGenerator(rescale=1./255)"
      ],
      "metadata": {
        "id": "C5TKxlYl4vPg"
      },
      "execution_count": 28,
      "outputs": []
    },
    {
      "cell_type": "markdown",
      "source": [
        "Because you use \n",
        "binary_crossentropy \n",
        "loss,hence binary labels"
      ],
      "metadata": {
        "id": "jy9z50Ir41Ef"
      }
    },
    {
      "cell_type": "code",
      "source": [
        "train_generator = train_datagen.flow_from_directory(\n",
        "train_dir,\n",
        "target_size=(150, 150),\n",
        "batch_size=20,\n",
        "class_mode='binary')\n",
        "validation_generator = test_datagen.flow_from_directory(\n",
        "validation_dir,\n",
        "target_size=(150, 150),\n",
        "batch_size=20,\n",
        "class_mode='binary')"
      ],
      "metadata": {
        "colab": {
          "base_uri": "https://localhost:8080/"
        },
        "id": "C-l-TbmA4bEH",
        "outputId": "f3cc0ece-f15e-40bf-8b92-77a8bc239abc"
      },
      "execution_count": 29,
      "outputs": [
        {
          "output_type": "stream",
          "name": "stdout",
          "text": [
            "Found 2000 images belonging to 2 classes.\n",
            "Found 1000 images belonging to 2 classes.\n"
          ]
        }
      ]
    },
    {
      "cell_type": "code",
      "source": [
        "model.compile(optimizer=tensorflow.keras.optimizers.RMSprop(lr=2e-5),loss='binary_crossentropy',metrics=['acc'])"
      ],
      "metadata": {
        "colab": {
          "base_uri": "https://localhost:8080/"
        },
        "id": "tZb9h99k5DKu",
        "outputId": "771ba8c7-af9a-4ccb-fcbd-50666f42517c"
      },
      "execution_count": 31,
      "outputs": [
        {
          "output_type": "stream",
          "name": "stderr",
          "text": [
            "/usr/local/lib/python3.7/dist-packages/keras/optimizer_v2/rmsprop.py:130: UserWarning: The `lr` argument is deprecated, use `learning_rate` instead.\n",
            "  super(RMSprop, self).__init__(name, **kwargs)\n"
          ]
        }
      ]
    },
    {
      "cell_type": "code",
      "source": [
        "history = model.fit_generator(\n",
        "train_generator,\n",
        "steps_per_epoch=100,\n",
        "epochs=100,\n",
        "validation_data=validation_generator,\n",
        "validation_steps=50)"
      ],
      "metadata": {
        "colab": {
          "base_uri": "https://localhost:8080/"
        },
        "id": "Tr9-hzJY4gzy",
        "outputId": "a5503a0d-a460-40ff-e3e8-b52169552cb2"
      },
      "execution_count": 32,
      "outputs": [
        {
          "output_type": "stream",
          "name": "stderr",
          "text": [
            "/usr/local/lib/python3.7/dist-packages/ipykernel_launcher.py:6: UserWarning: `Model.fit_generator` is deprecated and will be removed in a future version. Please use `Model.fit`, which supports generators.\n",
            "  \n"
          ]
        },
        {
          "output_type": "stream",
          "name": "stdout",
          "text": [
            "Epoch 1/100\n",
            "100/100 [==============================] - 34s 329ms/step - loss: 0.5814 - acc: 0.7070 - val_loss: 0.4273 - val_acc: 0.8230\n",
            "Epoch 2/100\n",
            "100/100 [==============================] - 30s 299ms/step - loss: 0.4690 - acc: 0.7960 - val_loss: 0.3776 - val_acc: 0.8230\n",
            "Epoch 3/100\n",
            "100/100 [==============================] - 31s 306ms/step - loss: 0.4214 - acc: 0.8150 - val_loss: 0.3304 - val_acc: 0.8600\n",
            "Epoch 4/100\n",
            "100/100 [==============================] - 30s 300ms/step - loss: 0.3848 - acc: 0.8430 - val_loss: 0.3126 - val_acc: 0.8620\n",
            "Epoch 5/100\n",
            "100/100 [==============================] - 30s 299ms/step - loss: 0.3740 - acc: 0.8370 - val_loss: 0.3002 - val_acc: 0.8670\n",
            "Epoch 6/100\n",
            "100/100 [==============================] - 30s 298ms/step - loss: 0.3532 - acc: 0.8425 - val_loss: 0.3013 - val_acc: 0.8700\n",
            "Epoch 7/100\n",
            "100/100 [==============================] - 30s 299ms/step - loss: 0.3648 - acc: 0.8330 - val_loss: 0.2839 - val_acc: 0.8730\n",
            "Epoch 8/100\n",
            "100/100 [==============================] - 30s 298ms/step - loss: 0.3510 - acc: 0.8445 - val_loss: 0.2943 - val_acc: 0.8760\n",
            "Epoch 9/100\n",
            "100/100 [==============================] - 30s 298ms/step - loss: 0.3334 - acc: 0.8525 - val_loss: 0.2884 - val_acc: 0.8770\n",
            "Epoch 10/100\n",
            "100/100 [==============================] - 30s 298ms/step - loss: 0.3349 - acc: 0.8555 - val_loss: 0.2915 - val_acc: 0.8810\n",
            "Epoch 11/100\n",
            "100/100 [==============================] - 30s 298ms/step - loss: 0.3271 - acc: 0.8630 - val_loss: 0.2690 - val_acc: 0.8860\n",
            "Epoch 12/100\n",
            "100/100 [==============================] - 30s 299ms/step - loss: 0.3242 - acc: 0.8555 - val_loss: 0.2657 - val_acc: 0.8890\n",
            "Epoch 13/100\n",
            "100/100 [==============================] - 30s 296ms/step - loss: 0.3179 - acc: 0.8695 - val_loss: 0.2640 - val_acc: 0.8820\n",
            "Epoch 14/100\n",
            "100/100 [==============================] - 30s 297ms/step - loss: 0.3204 - acc: 0.8585 - val_loss: 0.2757 - val_acc: 0.8870\n",
            "Epoch 15/100\n",
            "100/100 [==============================] - 30s 300ms/step - loss: 0.3120 - acc: 0.8655 - val_loss: 0.2633 - val_acc: 0.8850\n",
            "Epoch 16/100\n",
            "100/100 [==============================] - 30s 299ms/step - loss: 0.3147 - acc: 0.8620 - val_loss: 0.2599 - val_acc: 0.8870\n",
            "Epoch 17/100\n",
            "100/100 [==============================] - 30s 298ms/step - loss: 0.2993 - acc: 0.8690 - val_loss: 0.2680 - val_acc: 0.8840\n",
            "Epoch 18/100\n",
            "100/100 [==============================] - 30s 299ms/step - loss: 0.3132 - acc: 0.8550 - val_loss: 0.2609 - val_acc: 0.8850\n",
            "Epoch 19/100\n",
            "100/100 [==============================] - 30s 298ms/step - loss: 0.3021 - acc: 0.8760 - val_loss: 0.2623 - val_acc: 0.8890\n",
            "Epoch 20/100\n",
            "100/100 [==============================] - 30s 299ms/step - loss: 0.3044 - acc: 0.8660 - val_loss: 0.2808 - val_acc: 0.8850\n",
            "Epoch 21/100\n",
            "100/100 [==============================] - 30s 298ms/step - loss: 0.3091 - acc: 0.8655 - val_loss: 0.2519 - val_acc: 0.8900\n",
            "Epoch 22/100\n",
            "100/100 [==============================] - 30s 298ms/step - loss: 0.2956 - acc: 0.8720 - val_loss: 0.2549 - val_acc: 0.8910\n",
            "Epoch 23/100\n",
            "100/100 [==============================] - 30s 298ms/step - loss: 0.2967 - acc: 0.8715 - val_loss: 0.2622 - val_acc: 0.8930\n",
            "Epoch 24/100\n",
            "100/100 [==============================] - 30s 297ms/step - loss: 0.2845 - acc: 0.8860 - val_loss: 0.2484 - val_acc: 0.8910\n",
            "Epoch 25/100\n",
            "100/100 [==============================] - 30s 297ms/step - loss: 0.2840 - acc: 0.8785 - val_loss: 0.2452 - val_acc: 0.8920\n",
            "Epoch 26/100\n",
            "100/100 [==============================] - 30s 298ms/step - loss: 0.3014 - acc: 0.8630 - val_loss: 0.2502 - val_acc: 0.8960\n",
            "Epoch 27/100\n",
            "100/100 [==============================] - 30s 298ms/step - loss: 0.2845 - acc: 0.8790 - val_loss: 0.2509 - val_acc: 0.8930\n",
            "Epoch 28/100\n",
            "100/100 [==============================] - 30s 298ms/step - loss: 0.2772 - acc: 0.8800 - val_loss: 0.2564 - val_acc: 0.8900\n",
            "Epoch 29/100\n",
            "100/100 [==============================] - 30s 298ms/step - loss: 0.3007 - acc: 0.8680 - val_loss: 0.2641 - val_acc: 0.8910\n",
            "Epoch 30/100\n",
            "100/100 [==============================] - 30s 297ms/step - loss: 0.2916 - acc: 0.8740 - val_loss: 0.2699 - val_acc: 0.8880\n",
            "Epoch 31/100\n",
            "100/100 [==============================] - 30s 297ms/step - loss: 0.2736 - acc: 0.8880 - val_loss: 0.2853 - val_acc: 0.8870\n",
            "Epoch 32/100\n",
            "100/100 [==============================] - 30s 297ms/step - loss: 0.2837 - acc: 0.8835 - val_loss: 0.2540 - val_acc: 0.8950\n",
            "Epoch 33/100\n",
            "100/100 [==============================] - 30s 297ms/step - loss: 0.2859 - acc: 0.8785 - val_loss: 0.2500 - val_acc: 0.8980\n",
            "Epoch 34/100\n",
            "100/100 [==============================] - 30s 298ms/step - loss: 0.2750 - acc: 0.8815 - val_loss: 0.2689 - val_acc: 0.8820\n",
            "Epoch 35/100\n",
            "100/100 [==============================] - 30s 299ms/step - loss: 0.2696 - acc: 0.8905 - val_loss: 0.2526 - val_acc: 0.8860\n",
            "Epoch 36/100\n",
            "100/100 [==============================] - 30s 298ms/step - loss: 0.2816 - acc: 0.8805 - val_loss: 0.2482 - val_acc: 0.8920\n",
            "Epoch 37/100\n",
            "100/100 [==============================] - 30s 298ms/step - loss: 0.2725 - acc: 0.8815 - val_loss: 0.2493 - val_acc: 0.8930\n",
            "Epoch 38/100\n",
            "100/100 [==============================] - 30s 298ms/step - loss: 0.2724 - acc: 0.8865 - val_loss: 0.2657 - val_acc: 0.8920\n",
            "Epoch 39/100\n",
            "100/100 [==============================] - 30s 298ms/step - loss: 0.2763 - acc: 0.8790 - val_loss: 0.2726 - val_acc: 0.8890\n",
            "Epoch 40/100\n",
            "100/100 [==============================] - 30s 299ms/step - loss: 0.2677 - acc: 0.8790 - val_loss: 0.2549 - val_acc: 0.8920\n",
            "Epoch 41/100\n",
            "100/100 [==============================] - 30s 298ms/step - loss: 0.2624 - acc: 0.8905 - val_loss: 0.2708 - val_acc: 0.8860\n",
            "Epoch 42/100\n",
            "100/100 [==============================] - 30s 299ms/step - loss: 0.2748 - acc: 0.8780 - val_loss: 0.2702 - val_acc: 0.8950\n",
            "Epoch 43/100\n",
            "100/100 [==============================] - 30s 299ms/step - loss: 0.2542 - acc: 0.8930 - val_loss: 0.2461 - val_acc: 0.8910\n",
            "Epoch 44/100\n",
            "100/100 [==============================] - 30s 298ms/step - loss: 0.2745 - acc: 0.8865 - val_loss: 0.2481 - val_acc: 0.8920\n",
            "Epoch 45/100\n",
            "100/100 [==============================] - 30s 298ms/step - loss: 0.2594 - acc: 0.8970 - val_loss: 0.2439 - val_acc: 0.8900\n",
            "Epoch 46/100\n",
            "100/100 [==============================] - 30s 299ms/step - loss: 0.2628 - acc: 0.8835 - val_loss: 0.2492 - val_acc: 0.8960\n",
            "Epoch 47/100\n",
            "100/100 [==============================] - 30s 298ms/step - loss: 0.2571 - acc: 0.8975 - val_loss: 0.2464 - val_acc: 0.8980\n",
            "Epoch 48/100\n",
            "100/100 [==============================] - 30s 300ms/step - loss: 0.2605 - acc: 0.8900 - val_loss: 0.2482 - val_acc: 0.8970\n",
            "Epoch 49/100\n",
            "100/100 [==============================] - 30s 297ms/step - loss: 0.2521 - acc: 0.8880 - val_loss: 0.2761 - val_acc: 0.8960\n",
            "Epoch 50/100\n",
            "100/100 [==============================] - 30s 297ms/step - loss: 0.2579 - acc: 0.8885 - val_loss: 0.2449 - val_acc: 0.8920\n",
            "Epoch 51/100\n",
            "100/100 [==============================] - 30s 298ms/step - loss: 0.2792 - acc: 0.8725 - val_loss: 0.2474 - val_acc: 0.8910\n",
            "Epoch 52/100\n",
            "100/100 [==============================] - 30s 297ms/step - loss: 0.2621 - acc: 0.8850 - val_loss: 0.2641 - val_acc: 0.8980\n",
            "Epoch 53/100\n",
            "100/100 [==============================] - 30s 298ms/step - loss: 0.2665 - acc: 0.8850 - val_loss: 0.2543 - val_acc: 0.8970\n",
            "Epoch 54/100\n",
            "100/100 [==============================] - 30s 299ms/step - loss: 0.2543 - acc: 0.8915 - val_loss: 0.2477 - val_acc: 0.8950\n",
            "Epoch 55/100\n",
            "100/100 [==============================] - 30s 298ms/step - loss: 0.2629 - acc: 0.8885 - val_loss: 0.2457 - val_acc: 0.8970\n",
            "Epoch 56/100\n",
            "100/100 [==============================] - 29s 294ms/step - loss: 0.2563 - acc: 0.8845 - val_loss: 0.2445 - val_acc: 0.8990\n",
            "Epoch 57/100\n",
            "100/100 [==============================] - 30s 296ms/step - loss: 0.2543 - acc: 0.8945 - val_loss: 0.2466 - val_acc: 0.8950\n",
            "Epoch 58/100\n",
            "100/100 [==============================] - 30s 295ms/step - loss: 0.2576 - acc: 0.8945 - val_loss: 0.2541 - val_acc: 0.8990\n",
            "Epoch 59/100\n",
            "100/100 [==============================] - 30s 295ms/step - loss: 0.2562 - acc: 0.8950 - val_loss: 0.2428 - val_acc: 0.8960\n",
            "Epoch 60/100\n",
            "100/100 [==============================] - 29s 294ms/step - loss: 0.2621 - acc: 0.8830 - val_loss: 0.2674 - val_acc: 0.8950\n",
            "Epoch 61/100\n",
            "100/100 [==============================] - 29s 294ms/step - loss: 0.2445 - acc: 0.8945 - val_loss: 0.2556 - val_acc: 0.9020\n",
            "Epoch 62/100\n",
            "100/100 [==============================] - 29s 294ms/step - loss: 0.2511 - acc: 0.8945 - val_loss: 0.2366 - val_acc: 0.8970\n",
            "Epoch 63/100\n",
            "100/100 [==============================] - 29s 295ms/step - loss: 0.2507 - acc: 0.8925 - val_loss: 0.2422 - val_acc: 0.8990\n",
            "Epoch 64/100\n",
            "100/100 [==============================] - 29s 294ms/step - loss: 0.2609 - acc: 0.8825 - val_loss: 0.2371 - val_acc: 0.8990\n",
            "Epoch 65/100\n",
            "100/100 [==============================] - 30s 295ms/step - loss: 0.2626 - acc: 0.8930 - val_loss: 0.2526 - val_acc: 0.9000\n",
            "Epoch 66/100\n",
            "100/100 [==============================] - 29s 295ms/step - loss: 0.2466 - acc: 0.9020 - val_loss: 0.2395 - val_acc: 0.8970\n",
            "Epoch 67/100\n",
            "100/100 [==============================] - 29s 294ms/step - loss: 0.2504 - acc: 0.8930 - val_loss: 0.2675 - val_acc: 0.8980\n",
            "Epoch 68/100\n",
            "100/100 [==============================] - 30s 296ms/step - loss: 0.2502 - acc: 0.8935 - val_loss: 0.2427 - val_acc: 0.8950\n",
            "Epoch 69/100\n",
            "100/100 [==============================] - 30s 297ms/step - loss: 0.2514 - acc: 0.8965 - val_loss: 0.2429 - val_acc: 0.9010\n",
            "Epoch 70/100\n",
            "100/100 [==============================] - 30s 302ms/step - loss: 0.2521 - acc: 0.8900 - val_loss: 0.2402 - val_acc: 0.9020\n",
            "Epoch 71/100\n",
            "100/100 [==============================] - 30s 301ms/step - loss: 0.2472 - acc: 0.8905 - val_loss: 0.2483 - val_acc: 0.8970\n",
            "Epoch 72/100\n",
            "100/100 [==============================] - 29s 294ms/step - loss: 0.2494 - acc: 0.8950 - val_loss: 0.2430 - val_acc: 0.8970\n",
            "Epoch 73/100\n",
            "100/100 [==============================] - 29s 295ms/step - loss: 0.2479 - acc: 0.8930 - val_loss: 0.2409 - val_acc: 0.8980\n",
            "Epoch 74/100\n",
            "100/100 [==============================] - 29s 294ms/step - loss: 0.2423 - acc: 0.8980 - val_loss: 0.2450 - val_acc: 0.9010\n",
            "Epoch 75/100\n",
            "100/100 [==============================] - 29s 294ms/step - loss: 0.2309 - acc: 0.9070 - val_loss: 0.2452 - val_acc: 0.8960\n",
            "Epoch 76/100\n",
            "100/100 [==============================] - 29s 294ms/step - loss: 0.2394 - acc: 0.8985 - val_loss: 0.2584 - val_acc: 0.8990\n",
            "Epoch 77/100\n",
            "100/100 [==============================] - 29s 295ms/step - loss: 0.2324 - acc: 0.9020 - val_loss: 0.2472 - val_acc: 0.8980\n",
            "Epoch 78/100\n",
            "100/100 [==============================] - 30s 297ms/step - loss: 0.2481 - acc: 0.8985 - val_loss: 0.2489 - val_acc: 0.9010\n",
            "Epoch 79/100\n",
            "100/100 [==============================] - 30s 297ms/step - loss: 0.2364 - acc: 0.9040 - val_loss: 0.2564 - val_acc: 0.9020\n",
            "Epoch 80/100\n",
            "100/100 [==============================] - 30s 298ms/step - loss: 0.2430 - acc: 0.8915 - val_loss: 0.2544 - val_acc: 0.9010\n",
            "Epoch 81/100\n",
            "100/100 [==============================] - 30s 296ms/step - loss: 0.2499 - acc: 0.8885 - val_loss: 0.2481 - val_acc: 0.9000\n",
            "Epoch 82/100\n",
            "100/100 [==============================] - 30s 297ms/step - loss: 0.2522 - acc: 0.8965 - val_loss: 0.2402 - val_acc: 0.9010\n",
            "Epoch 83/100\n",
            "100/100 [==============================] - 30s 296ms/step - loss: 0.2436 - acc: 0.8970 - val_loss: 0.2430 - val_acc: 0.8970\n",
            "Epoch 84/100\n",
            "100/100 [==============================] - 30s 300ms/step - loss: 0.2411 - acc: 0.9055 - val_loss: 0.2368 - val_acc: 0.9020\n",
            "Epoch 85/100\n",
            "100/100 [==============================] - 30s 299ms/step - loss: 0.2346 - acc: 0.8975 - val_loss: 0.2385 - val_acc: 0.8990\n",
            "Epoch 86/100\n",
            "100/100 [==============================] - 30s 299ms/step - loss: 0.2277 - acc: 0.9070 - val_loss: 0.2389 - val_acc: 0.9020\n",
            "Epoch 87/100\n",
            "100/100 [==============================] - 30s 296ms/step - loss: 0.2364 - acc: 0.8990 - val_loss: 0.2462 - val_acc: 0.9010\n",
            "Epoch 88/100\n",
            "100/100 [==============================] - 30s 299ms/step - loss: 0.2333 - acc: 0.9030 - val_loss: 0.2427 - val_acc: 0.9010\n",
            "Epoch 89/100\n",
            "100/100 [==============================] - 30s 299ms/step - loss: 0.2296 - acc: 0.9000 - val_loss: 0.2523 - val_acc: 0.9020\n",
            "Epoch 90/100\n",
            "100/100 [==============================] - 30s 298ms/step - loss: 0.2400 - acc: 0.8930 - val_loss: 0.2401 - val_acc: 0.8970\n",
            "Epoch 91/100\n",
            "100/100 [==============================] - 30s 301ms/step - loss: 0.2332 - acc: 0.8995 - val_loss: 0.2479 - val_acc: 0.9000\n",
            "Epoch 92/100\n",
            "100/100 [==============================] - 30s 300ms/step - loss: 0.2512 - acc: 0.8955 - val_loss: 0.2383 - val_acc: 0.8980\n",
            "Epoch 93/100\n",
            "100/100 [==============================] - 30s 297ms/step - loss: 0.2386 - acc: 0.8940 - val_loss: 0.2391 - val_acc: 0.8910\n",
            "Epoch 94/100\n",
            "100/100 [==============================] - 30s 300ms/step - loss: 0.2359 - acc: 0.8975 - val_loss: 0.2565 - val_acc: 0.9010\n",
            "Epoch 95/100\n",
            "100/100 [==============================] - 30s 300ms/step - loss: 0.2366 - acc: 0.8930 - val_loss: 0.2354 - val_acc: 0.8950\n",
            "Epoch 96/100\n",
            "100/100 [==============================] - 30s 297ms/step - loss: 0.2245 - acc: 0.9040 - val_loss: 0.2473 - val_acc: 0.9020\n",
            "Epoch 97/100\n",
            "100/100 [==============================] - 30s 300ms/step - loss: 0.2354 - acc: 0.8970 - val_loss: 0.2463 - val_acc: 0.9010\n",
            "Epoch 98/100\n",
            "100/100 [==============================] - 30s 297ms/step - loss: 0.2324 - acc: 0.8950 - val_loss: 0.2375 - val_acc: 0.8970\n",
            "Epoch 99/100\n",
            "100/100 [==============================] - 30s 296ms/step - loss: 0.2318 - acc: 0.9000 - val_loss: 0.2379 - val_acc: 0.8950\n",
            "Epoch 100/100\n",
            "100/100 [==============================] - 30s 300ms/step - loss: 0.2369 - acc: 0.8955 - val_loss: 0.2510 - val_acc: 0.9010\n"
          ]
        }
      ]
    },
    {
      "cell_type": "code",
      "source": [
        "acc = history.history['acc']\n",
        "val_acc = history.history['val_acc']\n",
        "loss = history.history['loss']\n",
        "val_loss = history.history['val_loss']\n",
        "epochs = range(1, len(acc) + 1)\n",
        "plt.plot(epochs, acc, 'bo', label='Training acc')\n",
        "plt.plot(epochs, val_acc, 'b', label='Validation acc')\n",
        "plt.title('Training and validation accuracy')\n",
        "plt.legend()\n",
        "plt.figure()\n",
        "plt.plot(epochs, loss, 'bo', label='Training loss')\n",
        "plt.plot(epochs, val_loss, 'b', label='Validation loss')\n",
        "plt.title('Training and validation loss')\n",
        "plt.legend()\n",
        "plt.show()"
      ],
      "metadata": {
        "colab": {
          "base_uri": "https://localhost:8080/",
          "height": 545
        },
        "id": "0NctOFi0GjqJ",
        "outputId": "53648f5d-6d99-4eda-cf34-a0616ee74aa6"
      },
      "execution_count": 34,
      "outputs": [
        {
          "output_type": "display_data",
          "data": {
            "image/png": "[encoded data removed]",
            "text/plain": [
              "<Figure size 432x288 with 1 Axes>"
            ]
          },
          "metadata": {
            "needs_background": "light"
          }
        },
        {
          "output_type": "display_data",
          "data": {
            "image/png": "[encoded data removed]",
            "text/plain": [
              "<Figure size 432x288 with 1 Axes>"
            ]
          },
          "metadata": {
            "needs_background": "light"
          }
        }
      ]
    },
    {
      "cell_type": "code",
      "source": [
        "model.save('cats_and_dogs_vgg16_model.h5')"
      ],
      "metadata": {
        "id": "C3gswdRaGj-k"
      },
      "execution_count": 35,
      "outputs": []
    },
    {
      "cell_type": "markdown",
      "source": [
        "#### Refrence book DeepLearning with Python"
      ],
      "metadata": {
        "id": "JOKHjBL0G4EE"
      }
    },
    {
      "cell_type": "code",
      "source": [
        ""
      ],
      "metadata": {
        "id": "Z81uBcwI46b4"
      },
      "execution_count": 33,
      "outputs": []
    },
    {
      "cell_type": "code",
      "source": [
        ""
      ],
      "metadata": {
        "id": "R_Yo_0Jw5JJn"
      },
      "execution_count": null,
      "outputs": []
    }
  ]
}