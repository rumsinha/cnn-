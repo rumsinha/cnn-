{
  "nbformat": 4,
  "nbformat_minor": 0,
  "metadata": {
    "colab": {
      "name": "workingwithCNNandMNIST.ipynb",
      "provenance": [],
      "collapsed_sections": []
    },
    "kernelspec": {
      "name": "python3",
      "display_name": "Python 3"
    },
    "language_info": {
      "name": "python"
    }
  },
  "cells": [
    {
      "cell_type": "code",
      "execution_count": 1,
      "metadata": {
        "id": "oTJXJYnk1aHp"
      },
      "outputs": [],
      "source": [
        "from tensorflow.keras import layers\n",
        "from tensorflow.keras import models"
      ]
    },
    {
      "cell_type": "code",
      "source": [
        "from keras.datasets import mnist\n",
        "from tensorflow.keras.utils import to_categorical\n",
        "(train_images, train_labels), (test_images, test_labels) = mnist.load_data()"
      ],
      "metadata": {
        "id": "tMHEbtVh5NQg"
      },
      "execution_count": 11,
      "outputs": []
    },
    {
      "cell_type": "code",
      "source": [
        "model = models.Sequential()\n",
        "model.add(layers.Conv2D(32,(3,3),activation='relu',input_shape=(28,28,1)))\n",
        "model.add(layers.MaxPooling2D(2,2))\n",
        "model.add(layers.Conv2D(64,(3,3),activation='relu'))\n",
        "model.add(layers.MaxPooling2D(2,2))\n",
        "model.add(layers.Conv2D(64,(3,3),activation='relu'))"
      ],
      "metadata": {
        "id": "eVtcY3b_1m6e"
      },
      "execution_count": 12,
      "outputs": []
    },
    {
      "cell_type": "markdown",
      "source": [
        "input is a tensor of shape (image_height,image_width,image_channels). MNIST is (28,28,1)"
      ],
      "metadata": {
        "id": "RLU5dSsz3IOe"
      }
    },
    {
      "cell_type": "markdown",
      "source": [
        "the number of filters are 32 and 64"
      ],
      "metadata": {
        "id": "fgO7tXuY3nkG"
      }
    },
    {
      "cell_type": "markdown",
      "source": [
        "First need to reshape the 3 D tensors to 1 D tensors then input them into the dense layers"
      ],
      "metadata": {
        "id": "th1E3WWw37LN"
      }
    },
    {
      "cell_type": "code",
      "source": [
        "model.add(layers.Flatten())\n",
        "model.add(layers.Dense(64,activation='relu'))\n",
        "model.add(layers.Dense(10,activation='softmax'))"
      ],
      "metadata": {
        "id": "R_wFZpQg4JQF"
      },
      "execution_count": 13,
      "outputs": []
    },
    {
      "cell_type": "markdown",
      "source": [
        "3*3*64 = 576 is the input to the dense layer. Output is 10 neurons as the classes are ten and activation is softmax for probability."
      ],
      "metadata": {
        "id": "lN7UGxZa4hvP"
      }
    },
    {
      "cell_type": "markdown",
      "source": [
        "The first convolutional layer takes a feature map of size (28,28,1) and outputs a feature map of size (26,26,32). It computes 32 filters over its input. Each of these 32 output channels contains a 26*26 grid of values which is a response map of the filter over the input indicating the response of that filter patterns at different locations of the input. This is feature map. "
      ],
      "metadata": {
        "id": "4N-vkB1W76Vo"
      }
    },
    {
      "cell_type": "markdown",
      "source": [
        "The size of the patches extracted from the inputs are (3 * 3) or (5 * 5). Here it is (3*3)"
      ],
      "metadata": {
        "id": "r91QXgfK9mdg"
      }
    },
    {
      "cell_type": "markdown",
      "source": [
        "The depth of the output feature map. the number of filters computed by the convolution. from 32 to 64"
      ],
      "metadata": {
        "id": "FY6JOPKn92_u"
      }
    },
    {
      "cell_type": "markdown",
      "source": [
        "Conv2D(output_depth, (window_height, window_width))\n",
        "A convolution works by sliding these windows of size 3 × 3 or 5 × 5 over the 3D input\n",
        "feature map, stopping at every possible location, and extracting the 3D patch of sur\u0002rounding features (shape (window_height, window_width, input_depth)).\n",
        "Each\n",
        "such 3D patch is then transformed (via a tensor product with the same learned weight\n",
        "matrix, called the convolution kernel) into a 1D vector of shape (output_depth,). All of\n",
        "these vectors are then spatially reassembled into a 3D output map of shape (height,\n",
        "width, output_depth). Every spatial location in the output feature map corresponds\n",
        "to the same location in the input feature map (for example, the lower-right corner of\n",
        "the output contains information about the lower-right corner of the input). For\n",
        "instance, with 3 × 3 windows, the vector output[i, j, :] comes from the 3D patch\n",
        "input[i-1:i+1, j-1:j+1, :]."
      ],
      "metadata": {
        "id": "9rrRXvnt-QyH"
      }
    },
    {
      "cell_type": "markdown",
      "source": [
        "Before the first MaxPooling2D lay\u0002ers, the feature map is 26 × 26, but the max-pooling operation halves it to 13 × 13.\n",
        "The max pooling downsample feature maps."
      ],
      "metadata": {
        "id": "KnfUpGSOPR4t"
      }
    },
    {
      "cell_type": "markdown",
      "source": [
        "Max pooling consists of extracting windows from the input feature maps and out\u0002putting the max value of each channel.\n",
        "max pooling is usually done with 2 × 2 windows and stride 2, in order to downsample the feature maps by a factor of 2. convolution is typically done with 3 × 3 windows and no stride (stride 1)."
      ],
      "metadata": {
        "id": "nq8wRjYMPpKa"
      }
    },
    {
      "cell_type": "code",
      "source": [
        "model.summary()"
      ],
      "metadata": {
        "colab": {
          "base_uri": "https://localhost:8080/"
        },
        "id": "o19nZEc7280d",
        "outputId": "95176765-de60-42d0-c9ed-abe86af6df03"
      },
      "execution_count": 14,
      "outputs": [
        {
          "output_type": "stream",
          "name": "stdout",
          "text": [
            "Model: \"sequential_1\"\n",
            "_________________________________________________________________\n",
            " Layer (type)                Output Shape              Param #   \n",
            "=================================================================\n",
            " conv2d_3 (Conv2D)           (None, 26, 26, 32)        320       \n",
            "                                                                 \n",
            " max_pooling2d_2 (MaxPooling  (None, 13, 13, 32)       0         \n",
            " 2D)                                                             \n",
            "                                                                 \n",
            " conv2d_4 (Conv2D)           (None, 11, 11, 64)        18496     \n",
            "                                                                 \n",
            " max_pooling2d_3 (MaxPooling  (None, 5, 5, 64)         0         \n",
            " 2D)                                                             \n",
            "                                                                 \n",
            " conv2d_5 (Conv2D)           (None, 3, 3, 64)          36928     \n",
            "                                                                 \n",
            " flatten_1 (Flatten)         (None, 576)               0         \n",
            "                                                                 \n",
            " dense_2 (Dense)             (None, 64)                36928     \n",
            "                                                                 \n",
            " dense_3 (Dense)             (None, 10)                650       \n",
            "                                                                 \n",
            "=================================================================\n",
            "Total params: 93,322\n",
            "Trainable params: 93,322\n",
            "Non-trainable params: 0\n",
            "_________________________________________________________________\n"
          ]
        }
      ]
    },
    {
      "cell_type": "markdown",
      "source": [
        "Reshaping and Scaling"
      ],
      "metadata": {
        "id": "Qqf8PZHm5kte"
      }
    },
    {
      "cell_type": "code",
      "source": [
        "train_images = train_images.reshape(60000,28,28,1)\n",
        "train_images = train_images.astype('float32')/255"
      ],
      "metadata": {
        "id": "3y5jxt4U3by8"
      },
      "execution_count": 15,
      "outputs": []
    },
    {
      "cell_type": "code",
      "source": [
        "test_images = test_images.reshape(10000,28,28,1)\n",
        "test_images = test_images.astype('float32')/255"
      ],
      "metadata": {
        "id": "_yC4-cRy5E3Z"
      },
      "execution_count": 16,
      "outputs": []
    },
    {
      "cell_type": "code",
      "source": [
        "train_labels = to_categorical(train_labels)\n",
        "test_labels = to_categorical(test_labels)"
      ],
      "metadata": {
        "id": "a1wMa63m5y7i"
      },
      "execution_count": 17,
      "outputs": []
    },
    {
      "cell_type": "code",
      "source": [
        "model.compile(optimizer='rmsprop',loss='categorical_crossentropy', metrics=['accuracy'])"
      ],
      "metadata": {
        "id": "Hh-sQ3Nw6CL_"
      },
      "execution_count": 18,
      "outputs": []
    },
    {
      "cell_type": "code",
      "source": [
        "model.fit(train_images,train_labels,epochs=5,batch_size=64)"
      ],
      "metadata": {
        "colab": {
          "base_uri": "https://localhost:8080/"
        },
        "id": "UkXxlKBk6M4C",
        "outputId": "2f60e3cf-6235-42cb-b615-98c217a9e405"
      },
      "execution_count": 19,
      "outputs": [
        {
          "output_type": "stream",
          "name": "stdout",
          "text": [
            "Epoch 1/5\n",
            "938/938 [==============================] - 84s 88ms/step - loss: 0.1843 - accuracy: 0.9420\n",
            "Epoch 2/5\n",
            "938/938 [==============================] - 84s 90ms/step - loss: 0.0480 - accuracy: 0.9850\n",
            "Epoch 3/5\n",
            "938/938 [==============================] - 53s 56ms/step - loss: 0.0338 - accuracy: 0.9899\n",
            "Epoch 4/5\n",
            "938/938 [==============================] - 56s 59ms/step - loss: 0.0251 - accuracy: 0.9927\n",
            "Epoch 5/5\n",
            "938/938 [==============================] - 53s 57ms/step - loss: 0.0199 - accuracy: 0.9938\n"
          ]
        },
        {
          "output_type": "execute_result",
          "data": {
            "text/plain": [
              "<keras.callbacks.History at 0x7fc61c5eb090>"
            ]
          },
          "metadata": {},
          "execution_count": 19
        }
      ]
    },
    {
      "cell_type": "markdown",
      "source": [
        "Evaluate the model on the test data"
      ],
      "metadata": {
        "id": "g3TBh6Wq6YmI"
      }
    },
    {
      "cell_type": "code",
      "source": [
        "test_loss, test_accuracy = model.evaluate(test_images, test_labels)\n",
        "test_accuracy"
      ],
      "metadata": {
        "colab": {
          "base_uri": "https://localhost:8080/"
        },
        "id": "1cs7p4qC6VQr",
        "outputId": "60df7d34-1382-4262-ae12-e26e51855bad"
      },
      "execution_count": 20,
      "outputs": [
        {
          "output_type": "stream",
          "name": "stdout",
          "text": [
            "313/313 [==============================] - 4s 11ms/step - loss: 0.0319 - accuracy: 0.9891\n"
          ]
        },
        {
          "output_type": "execute_result",
          "data": {
            "text/plain": [
              "0.9890999794006348"
            ]
          },
          "metadata": {},
          "execution_count": 20
        }
      ]
    },
    {
      "cell_type": "code",
      "source": [
        ""
      ],
      "metadata": {
        "id": "5opjDL2V6nsJ"
      },
      "execution_count": null,
      "outputs": []
    }
  ]
}